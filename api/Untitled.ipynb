{
 "cells": [
  {
   "cell_type": "code",
   "execution_count": 8,
   "id": "ebb485b9",
   "metadata": {},
   "outputs": [],
   "source": [
    "import psycopg2\n",
    "import pandas as pd\n",
    "import keys"
   ]
  },
  {
   "cell_type": "code",
   "execution_count": 9,
   "id": "b0d51c5f",
   "metadata": {},
   "outputs": [],
   "source": [
    "letters = ['A','A']\n",
    "price = ['0', '2']\n",
    "period = ['1-21-2021', '2-21-2021']\n",
    "trend_period = ['12-21-2020']"
   ]
  },
  {
   "cell_type": "code",
   "execution_count": 10,
   "id": "ae136b14",
   "metadata": {},
   "outputs": [
    {
     "name": "stdout",
     "output_type": "stream",
     "text": [
      "['A', 'B', 'C', 'D', 'E', 'F', 'G', 'H', 'I', 'J', 'K', 'L', 'M', 'N', 'O', 'P', 'Q', 'R', 'S', 'T', 'U', 'V', 'W', 'X', 'Y', 'Z']\n",
      "'A'\n"
     ]
    }
   ],
   "source": [
    "alphabets_in_lowercase=[]\n",
    "for i in range(65,91):\n",
    "    alphabets_in_lowercase.append(chr(i))\n",
    "abc = alphabets_in_lowercase\n",
    "print(abc)\n",
    "ind_1 = abc.index(letters[0])\n",
    "ind_2 = abc.index(letters[1]) + 1\n",
    "abc = abc[ind_1:ind_2]\n",
    "abc = str(abc).replace('[', '').replace(']', '')\n",
    "print(abc)"
   ]
  },
  {
   "cell_type": "code",
   "execution_count": 11,
   "id": "f611ef17",
   "metadata": {},
   "outputs": [],
   "source": [
    "#abc = get_abc_arr(lets)\n",
    "#query = f\"select * from historical_stock_data where ticker_id in (select id from master_ticker_list where left(ticker, 1) in ('A', 'b'));\"\n",
    "query = f\"select * from historical_stock_data as a where ticker_id in (select id from master_ticker_list where left(ticker, 1) in ({abc})) and '{period[0]}'::date < date::date and date::date < '{period[1] if trend_period != '' else trend_period}'::date limit 1000;\""
   ]
  },
  {
   "cell_type": "code",
   "execution_count": 12,
   "id": "0ba1a41d",
   "metadata": {},
   "outputs": [
    {
     "name": "stdout",
     "output_type": "stream",
     "text": [
      "     ticker_id                open               close                high  \\\n",
      "0    137291413   2.130000114440918  2.1700000762939453   2.180000066757202   \n",
      "1    137291413  2.1600000858306885   2.069999933242798  2.1700000762939453   \n",
      "2    137291413   2.259999990463257                 2.5   2.549999952316284   \n",
      "3    137291413  2.4600000381469727  2.3499999046325684  2.5999999046325684   \n",
      "4    137291413   2.319999933242798                2.25   2.450000047683716   \n",
      "..         ...                 ...                 ...                 ...   \n",
      "995   95073638  36.130001068115234   36.63999938964844   36.91999816894531   \n",
      "996   95073638   36.66999816894531  36.400001525878906    37.1150016784668   \n",
      "997   95073638   36.68000030517578  36.810001373291016                37.0   \n",
      "998   95073638   36.97999954223633  36.869998931884766  37.439998626708984   \n",
      "999   95073638    37.0099983215332   36.95000076293945  37.400001525878906   \n",
      "\n",
      "                    low     volume                 date  \n",
      "0    2.0999999046325684   247900.0  2021-01-22 00:00:00  \n",
      "1    2.0299999713897705   224300.0  2021-01-25 00:00:00  \n",
      "2     2.119999885559082  3082500.0  2021-01-26 00:00:00  \n",
      "3    2.2190001010894775   830600.0  2021-01-27 00:00:00  \n",
      "4     2.190000057220459   222100.0  2021-01-28 00:00:00  \n",
      "..                  ...        ...                  ...  \n",
      "995  36.099998474121094  2967800.0  2021-02-02 00:00:00  \n",
      "996  36.119998931884766  3483300.0  2021-02-03 00:00:00  \n",
      "997  36.560001373291016  2971300.0  2021-02-04 00:00:00  \n",
      "998  36.869998931884766  2454500.0  2021-02-05 00:00:00  \n",
      "999   36.83000183105469  5416200.0  2021-02-08 00:00:00  \n",
      "\n",
      "[1000 rows x 7 columns]\n"
     ]
    }
   ],
   "source": [
    "conn = psycopg2.connect(database=\"postgres\", user=keys.user, password=keys.password, host=keys.host, port=\"5432\")\n",
    "cur = conn.cursor()\n",
    "#cur.execute(f\"select * from master_ticker_list limit 5;\")\n",
    "cur.execute(query)\n",
    "data = cur.fetchall()\n",
    "#print(data)\n",
    "# ticker_id |        open        |       close        |        high        |        low        |  volume  |        date \n",
    "df=pd.DataFrame(data,columns=['ticker_id','open', 'close', 'high','low','volume', 'date'])\n",
    "print(df)\n",
    "conn.commit()\n",
    "conn.close()"
   ]
  },
  {
   "cell_type": "code",
   "execution_count": 14,
   "id": "3ca53481",
   "metadata": {},
   "outputs": [
    {
     "name": "stdout",
     "output_type": "stream",
     "text": [
      "120\n",
      "     ticker_id                 open                close                high  \\\n",
      "20   299236405   1.1200000047683716   1.1699999570846558  1.2100000381469727   \n",
      "21   299236405   1.1699999570846558   1.1399999856948853   1.190000057220459   \n",
      "22   299236405   1.1200000047683716   1.1399999856948853  1.1799999475479126   \n",
      "23   299236405   1.1200000047683716    1.100000023841858   1.149999976158142   \n",
      "24   299236405   1.2200000286102295   1.2100000381469727  1.2799999713897705   \n",
      "..         ...                  ...                  ...                 ...   \n",
      "843  275096434  0.39899998903274536   0.5260000228881836  0.5339999794960022   \n",
      "844  275096434   0.5249999761581421   0.2160000056028366  0.5249999761581421   \n",
      "845  275096434   0.2160000056028366   0.2160000056028366  0.2160000056028366   \n",
      "846  275096434   0.5239999890327454  0.22599999606609344  0.5239999890327454   \n",
      "847  275096434   0.5170000195503235   0.5189999938011169  0.5189999938011169   \n",
      "\n",
      "                     low     volume                 date  \n",
      "20    1.1200000047683716   848600.0  2021-01-22 00:00:00  \n",
      "21     1.100000023841858  1344800.0  2021-01-25 00:00:00  \n",
      "22    1.1200000047683716   762500.0  2021-01-26 00:00:00  \n",
      "23     1.059999942779541  1258100.0  2021-01-27 00:00:00  \n",
      "24    1.1100000143051147  5320900.0  2021-01-28 00:00:00  \n",
      "..                   ...        ...                  ...  \n",
      "843  0.20100000500679016    11200.0  2021-02-12 00:00:00  \n",
      "844   0.2160000056028366     1400.0  2021-02-16 00:00:00  \n",
      "845   0.2160000056028366      400.0  2021-02-17 00:00:00  \n",
      "846  0.22599999606609344     1400.0  2021-02-18 00:00:00  \n",
      "847   0.2720000147819519     1700.0  2021-02-19 00:00:00  \n",
      "\n",
      "[120 rows x 7 columns]\n"
     ]
    }
   ],
   "source": [
    "#only include if close price within price bounds\n",
    "ids = set(df['ticker_id'].to_list())\n",
    "for _id in ids:\n",
    "    ser = df[df['ticker_id'] == _id]\n",
    "    maxed = max(ser['close'])\n",
    "    mined = min(ser['close'])\n",
    "    #print(mined,maxed)\n",
    "    if mined > int(price[0]) and maxed > int(price[1]):\n",
    "        #print(mined, maxed)\n",
    "        df.drop(ser.index, inplace=True)\n",
    "print(df)\n",
    "\n"
   ]
  },
  {
   "cell_type": "code",
   "execution_count": null,
   "id": "e3209671",
   "metadata": {},
   "outputs": [],
   "source": []
  }
 ],
 "metadata": {
  "kernelspec": {
   "display_name": "Python 3",
   "language": "python",
   "name": "python3"
  },
  "language_info": {
   "codemirror_mode": {
    "name": "ipython",
    "version": 3
   },
   "file_extension": ".py",
   "mimetype": "text/x-python",
   "name": "python",
   "nbconvert_exporter": "python",
   "pygments_lexer": "ipython3",
   "version": "3.8.5"
  }
 },
 "nbformat": 4,
 "nbformat_minor": 5
}
