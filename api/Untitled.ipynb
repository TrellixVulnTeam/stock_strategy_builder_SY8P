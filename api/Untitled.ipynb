{
 "cells": [
  {
   "cell_type": "code",
   "execution_count": 41,
   "id": "ebb485b9",
   "metadata": {},
   "outputs": [],
   "source": [
    "import psycopg2\n",
    "import pandas as pd\n",
    "import keys"
   ]
  },
  {
   "cell_type": "code",
   "execution_count": 42,
   "id": "b0d51c5f",
   "metadata": {},
   "outputs": [],
   "source": [
    "letters = ['A','A']\n",
    "price = ['0', '2']\n",
    "period = ['1-21-2021', '2-21-2021']\n",
    "trend_period = ['12-21-2020']"
   ]
  },
  {
   "cell_type": "code",
   "execution_count": 43,
   "id": "ae136b14",
   "metadata": {},
   "outputs": [
    {
     "name": "stdout",
     "output_type": "stream",
     "text": [
      "['A', 'B', 'C', 'D', 'E', 'F', 'G', 'H', 'I', 'J', 'K', 'L', 'M', 'N', 'O', 'P', 'Q', 'R', 'S', 'T', 'U', 'V', 'W', 'X', 'Y', 'Z']\n",
      "'A'\n"
     ]
    }
   ],
   "source": [
    "alphabets_in_lowercase=[]\n",
    "for i in range(65,91):\n",
    "    alphabets_in_lowercase.append(chr(i))\n",
    "abc = alphabets_in_lowercase\n",
    "print(abc)\n",
    "ind_1 = abc.index(letters[0])\n",
    "ind_2 = abc.index(letters[1]) + 1\n",
    "abc = abc[ind_1:ind_2]\n",
    "abc = str(abc).replace('[', '').replace(']', '')\n",
    "print(abc)"
   ]
  },
  {
   "cell_type": "code",
   "execution_count": 44,
   "id": "f611ef17",
   "metadata": {},
   "outputs": [],
   "source": [
    "#abc = get_abc_arr(lets)\n",
    "#query = f\"select * from historical_stock_data where ticker_id in (select id from master_ticker_list where left(ticker, 1) in ('A', 'b'));\"\n",
    "query = f\"select * from historical_stock_data as a where ticker_id in (select id from master_ticker_list where left(ticker, 1) in ({abc})) and '{period[0]}'::date < date::date and date::date < '{period[1] if trend_period != '' else trend_period}'::date limit 1000;\""
   ]
  },
  {
   "cell_type": "code",
   "execution_count": 45,
   "id": "0ba1a41d",
   "metadata": {},
   "outputs": [
    {
     "name": "stdout",
     "output_type": "stream",
     "text": [
      "      ticker_id                open               close                high  \\\n",
      "0    1040820796  3.2799999713897705  3.2899999618530273   3.299999952316284   \n",
      "1    1040820796  3.2799999713897705  3.2899999618530273   3.299999952316284   \n",
      "2    1040820796  3.2899999618530273  3.2799999713897705   3.299999952316284   \n",
      "3    1040820796  3.2699999809265137  3.2699999809265137  3.2899999618530273   \n",
      "4    1040820796  3.2799999713897705  3.2799999713897705  3.2899999618530273   \n",
      "..          ...                 ...                 ...                 ...   \n",
      "995   648094622  20.729999542236328  20.899999618530273  21.079999923706055   \n",
      "996   648094622  20.940000534057617  21.049999237060547  21.049999237060547   \n",
      "997   648094622   20.06999969482422  20.329999923706055  20.950000762939453   \n",
      "998   648094622  20.420000076293945  20.479999542236328  20.610000610351562   \n",
      "999   648094622  20.389999389648438    20.6299991607666  20.709999084472656   \n",
      "\n",
      "                    low     volume                 date  \n",
      "0    3.2799999713897705  1049400.0  2021-01-22 00:00:00  \n",
      "1    3.2799999713897705  1303000.0  2021-01-25 00:00:00  \n",
      "2    3.2699999809265137  1493900.0  2021-01-26 00:00:00  \n",
      "3    3.2699999809265137   867500.0  2021-01-27 00:00:00  \n",
      "4    3.2699999809265137   310600.0  2021-01-28 00:00:00  \n",
      "..                  ...        ...                  ...  \n",
      "995    20.6299991607666   121800.0  2021-02-08 00:00:00  \n",
      "996   20.31999969482422    90600.0  2021-02-09 00:00:00  \n",
      "997   20.06999969482422   112500.0  2021-02-10 00:00:00  \n",
      "998  20.299999237060547    93700.0  2021-02-11 00:00:00  \n",
      "999   20.09000015258789   101400.0  2021-02-12 00:00:00  \n",
      "\n",
      "[1000 rows x 7 columns]\n"
     ]
    }
   ],
   "source": [
    "conn = psycopg2.connect(database=\"postgres\", user=keys.user, password=keys.password, host=keys.host, port=\"5432\")\n",
    "cur = conn.cursor()\n",
    "#cur.execute(f\"select * from master_ticker_list limit 5;\")\n",
    "cur.execute(query)\n",
    "data = cur.fetchall()\n",
    "#print(data)\n",
    "# ticker_id |        open        |       close        |        high        |        low        |  volume  |        date \n",
    "df=pd.DataFrame(data,columns=['ticker_id','open', 'close', 'high','low','volume', 'date'])\n",
    "print(df)\n",
    "conn.commit()\n",
    "conn.close()"
   ]
  },
  {
   "cell_type": "code",
   "execution_count": 46,
   "id": "3ca53481",
   "metadata": {},
   "outputs": [
    {
     "name": "stdout",
     "output_type": "stream",
     "text": [
      "1000\n",
      "29.979999542236328 32.47999954223633\n",
      "9.020000457763672 16.31999969482422\n",
      "22.950000762939453 26.549999237060547\n",
      "3.509999990463257 19.899999618530273\n",
      "2.450000047683716 3.0299999713897705\n",
      "6.550000190734863 6.550000190734863\n",
      "10.890000343322754 11.5\n",
      "6.570000171661377 8.039999961853027\n",
      "2.369999885559082 3.2100000381469727\n",
      "55.06999969482422 58.849998474121094\n",
      "153.3300018310547 161.75\n",
      "19.170000076293945 21.049999237060547\n",
      "38.13999938964844 45.310001373291016\n",
      "55.52000045776367 67.33999633789062\n",
      "36.56999969482422 44.630001068115234\n",
      "77.25 87.55000305175781\n",
      "44.810001373291016 59.83000183105469\n",
      "286.6600036621094 314.1600036621094\n",
      "9.489999771118164 10.789999961853027\n",
      "0.6600000262260437 0.75\n",
      "4.159999847412109 8.5\n",
      "93.26000213623047 128.1199951171875\n",
      "13.770000457763672 16.649999618530273\n",
      "3.25 3.299999952316284\n",
      "53.40999984741211 69.41000366210938\n",
      "23.149999618530273 29.350000381469727\n",
      "12.869999885559082 15.789999961853027\n",
      "10.119999885559082 14.920000076293945\n",
      "88.5 94.9800033569336\n",
      "10.100000381469727 13.529999732971191\n",
      "15.520000457763672 24.959999084472656\n",
      "1.809999942779541 3.240000009536743\n",
      "0.25999999046325684 0.5370000004768372\n",
      "13.449999809265137 15.199999809265137\n",
      "21.43000030517578 24.780000686645508\n",
      "7.710000038146973 9.170000076293945\n",
      "231.69000244140625 258.6000061035156\n",
      "30.166667938232422 33.51333236694336\n",
      "13.449999809265137 24.309999465942383\n",
      "72.12000274658203 78.94999694824219\n",
      "85.63999938964844 94.70999908447266\n",
      "14.229999542236328 16.079999923706055\n",
      "27.3799991607666 36.95000076293945\n",
      "110.19000244140625 147.89999389648438\n",
      "111.05999755859375 121.75\n",
      "27.950000762939453 30.25\n",
      "32.209999084472656 35.33000183105469\n",
      "262.55999755859375 279.67999267578125\n",
      "96.68000030517578 119.45999908447266\n",
      "2.319999933242798 3.6500000953674316\n",
      "10.074999809265137 10.489999771118164\n",
      "46.459999084472656 56.130001068115234\n",
      "0\n"
     ]
    }
   ],
   "source": [
    "print(len(df))\n",
    "ids = set(df['ticker_id'].to_list())\n",
    "for _id in ids:\n",
    "    ser = df[df['ticker_id'] == _id]\n",
    "    maxed = max(ser['close'])\n",
    "    mined = min(ser['close'])\n",
    "    #print(mined,maxed)\n",
    "    if mined > int(price[0]) or maxed < int(price[1]):\n",
    "        print(mined, maxed)\n",
    "        df.drop(ser.index, inplace=True)\n",
    "print(len(df))\n",
    "#print(df)\n",
    "#rem = df[ df['ticker_id']isin(ind) ]\n",
    "#print(rem)\n",
    "# Delete these row indexes from dataFrame\n",
    "#df.drop(indexNames , inplace=True)\n",
    "#print(df)"
   ]
  },
  {
   "cell_type": "code",
   "execution_count": null,
   "id": "e3209671",
   "metadata": {},
   "outputs": [],
   "source": []
  }
 ],
 "metadata": {
  "kernelspec": {
   "display_name": "Python 3",
   "language": "python",
   "name": "python3"
  },
  "language_info": {
   "codemirror_mode": {
    "name": "ipython",
    "version": 3
   },
   "file_extension": ".py",
   "mimetype": "text/x-python",
   "name": "python",
   "nbconvert_exporter": "python",
   "pygments_lexer": "ipython3",
   "version": "3.8.5"
  }
 },
 "nbformat": 4,
 "nbformat_minor": 5
}
