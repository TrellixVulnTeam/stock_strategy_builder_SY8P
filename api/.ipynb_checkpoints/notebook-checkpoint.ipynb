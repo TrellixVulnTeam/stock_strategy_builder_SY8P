{
 "cells": [
  {
   "cell_type": "code",
   "execution_count": 36,
   "id": "ebb485b9",
   "metadata": {},
   "outputs": [],
   "source": [
    "import psycopg2\n",
    "import pandas as pd\n",
    "import keys"
   ]
  },
  {
   "cell_type": "code",
   "execution_count": 37,
   "id": "b0d51c5f",
   "metadata": {},
   "outputs": [],
   "source": [
    "letters = ['A','A']\n",
    "price = ['0', '2']\n",
    "period = ['1-21-2021', '2-21-2021']\n",
    "trend_period = ['12-21-2020']"
   ]
  },
  {
   "cell_type": "code",
   "execution_count": 38,
   "id": "ae136b14",
   "metadata": {},
   "outputs": [
    {
     "name": "stdout",
     "output_type": "stream",
     "text": [
      "['A', 'B', 'C', 'D', 'E', 'F', 'G', 'H', 'I', 'J', 'K', 'L', 'M', 'N', 'O', 'P', 'Q', 'R', 'S', 'T', 'U', 'V', 'W', 'X', 'Y', 'Z']\n",
      "'A'\n"
     ]
    }
   ],
   "source": [
    "alphabets_in_lowercase=[]\n",
    "for i in range(65,91):\n",
    "    alphabets_in_lowercase.append(chr(i))\n",
    "abc = alphabets_in_lowercase\n",
    "print(abc)\n",
    "ind_1 = abc.index(letters[0])\n",
    "ind_2 = abc.index(letters[1]) + 1\n",
    "abc = abc[ind_1:ind_2]\n",
    "abc = str(abc).replace('[', '').replace(']', '')\n",
    "print(abc)"
   ]
  },
  {
   "cell_type": "code",
   "execution_count": 67,
   "id": "f611ef17",
   "metadata": {},
   "outputs": [],
   "source": [
    "#abc = get_abc_arr(lets)\n",
    "#query = f\"select * from historical_stock_data where ticker_id in (select id from master_ticker_list where left(ticker, 1) in ('A', 'b'));\"\n",
    "query = f\"select * from historical_stock_data where ticker_id in (select id from master_ticker_list where left(ticker, 1) in ({abc})) and '{period[0]}'::date < date::date and date::date < '{period[1]}'::date limit 100;\""
   ]
  },
  {
   "cell_type": "code",
   "execution_count": 68,
   "id": "0ba1a41d",
   "metadata": {},
   "outputs": [
    {
     "name": "stdout",
     "output_type": "stream",
     "text": [
      "     ticker_id                open               close                high  \\\n",
      "0     43495413  1.2100000381469727  1.2400000095367432                1.25   \n",
      "1     43495413  1.2699999809265137  1.3300000429153442  1.3799999952316284   \n",
      "2     43495413   1.340000033378601  1.3300000429153442  1.3600000143051147   \n",
      "3     43495413   1.309999942779541  1.2999999523162842  1.3300000429153442   \n",
      "4     43495413  1.2999999523162842                1.25   1.340000033378601   \n",
      "..         ...                 ...                 ...                 ...   \n",
      "95  1058283202  26.989999771118164  27.117000579833984  27.117000579833984   \n",
      "96  1058283202  27.239999771118164   27.18400001525879  27.239999771118164   \n",
      "97  1058283202  27.139999389648438  27.165000915527344  27.165000915527344   \n",
      "98  1058283202  27.031999588012695  27.031999588012695  27.031999588012695   \n",
      "99  1058283202  27.176000595092773  27.176000595092773  27.176000595092773   \n",
      "\n",
      "                   low     volume                 date  \n",
      "0   1.1799999475479126   568700.0  2021-01-22 00:00:00  \n",
      "1   1.2300000190734863  1155400.0  2021-01-25 00:00:00  \n",
      "2   1.2799999713897705   783600.0  2021-01-26 00:00:00  \n",
      "3   1.2599999904632568   450800.0  2021-01-27 00:00:00  \n",
      "4   1.2400000095367432   356700.0  2021-01-28 00:00:00  \n",
      "..                 ...        ...                  ...  \n",
      "95  26.989999771118164      400.0  2021-02-12 00:00:00  \n",
      "96   27.18400001525879      200.0  2021-02-16 00:00:00  \n",
      "97  27.139999389648438      100.0  2021-02-17 00:00:00  \n",
      "98  27.031999588012695        0.0  2021-02-18 00:00:00  \n",
      "99  27.176000595092773        0.0  2021-02-19 00:00:00  \n",
      "\n",
      "[100 rows x 7 columns]\n"
     ]
    }
   ],
   "source": [
    "conn = psycopg2.connect(database=\"postgres\", user=keys.user, password=keys.password, host=keys.host, port=\"5432\")\n",
    "cur = conn.cursor()\n",
    "#cur.execute(f\"select * from master_ticker_list limit 5;\")\n",
    "cur.execute(query)\n",
    "data = cur.fetchall()\n",
    "#print(data)\n",
    "# ticker_id |        open        |       close        |        high        |        low        |  volume  |        date \n",
    "rows=pd.DataFrame(data,columns=['ticker_id','open', 'close', 'high','low','volume', 'date'])\n",
    "print(rows)\n",
    "conn.commit()\n",
    "conn.close()"
   ]
  },
  {
   "cell_type": "code",
   "execution_count": null,
   "id": "3ca53481",
   "metadata": {},
   "outputs": [],
   "source": []
  }
 ],
 "metadata": {
  "kernelspec": {
   "display_name": "Python 3",
   "language": "python",
   "name": "python3"
  },
  "language_info": {
   "codemirror_mode": {
    "name": "ipython",
    "version": 3
   },
   "file_extension": ".py",
   "mimetype": "text/x-python",
   "name": "python",
   "nbconvert_exporter": "python",
   "pygments_lexer": "ipython3",
   "version": "3.8.5"
  }
 },
 "nbformat": 4,
 "nbformat_minor": 5
}
